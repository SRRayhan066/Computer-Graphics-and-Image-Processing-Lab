{
 "cells": [
  {
   "cell_type": "code",
   "execution_count": 43,
   "id": "bfc45e7d",
   "metadata": {},
   "outputs": [],
   "source": [
    "import matplotlib.pyplot as plt"
   ]
  },
  {
   "cell_type": "code",
   "execution_count": 51,
   "id": "50833d5b",
   "metadata": {},
   "outputs": [],
   "source": [
    "x1,y1 = 2.5,3.5\n",
    "x2,y2 = 10.2,20.6"
   ]
  },
  {
   "cell_type": "code",
   "execution_count": 52,
   "id": "3dba9e09",
   "metadata": {},
   "outputs": [],
   "source": [
    "m = (y1-y2)/(x1-x2)"
   ]
  },
  {
   "cell_type": "code",
   "execution_count": 53,
   "id": "aaf0bb6e",
   "metadata": {},
   "outputs": [
    {
     "name": "stdout",
     "output_type": "stream",
     "text": [
      "Slope is 2.220779220779221\n"
     ]
    }
   ],
   "source": [
    "print(f\"Slope is {m}\")"
   ]
  },
  {
   "cell_type": "code",
   "execution_count": 54,
   "id": "0ecdb28c",
   "metadata": {},
   "outputs": [],
   "source": [
    "x_values = []\n",
    "y_values = []\n",
    "x_round = []\n",
    "y_round = []"
   ]
  },
  {
   "cell_type": "code",
   "execution_count": 55,
   "id": "8caa6a25",
   "metadata": {},
   "outputs": [
    {
     "name": "stdout",
     "output_type": "stream",
     "text": [
      "x1 : 2.5\n",
      "y1 : 3.5\n",
      "round of x1 : 2\n",
      "round of y1 : 4\n",
      "x1 : 2.9502923976608186\n",
      "y1 : 4.5\n",
      "round of x1 : 3\n",
      "round of y1 : 4\n",
      "x1 : 3.4005847953216373\n",
      "y1 : 5.5\n",
      "round of x1 : 3\n",
      "round of y1 : 6\n",
      "x1 : 3.850877192982456\n",
      "y1 : 6.5\n",
      "round of x1 : 4\n",
      "round of y1 : 6\n",
      "x1 : 4.3011695906432745\n",
      "y1 : 7.5\n",
      "round of x1 : 4\n",
      "round of y1 : 8\n",
      "x1 : 4.751461988304094\n",
      "y1 : 8.5\n",
      "round of x1 : 5\n",
      "round of y1 : 8\n",
      "x1 : 5.201754385964913\n",
      "y1 : 9.5\n",
      "round of x1 : 5\n",
      "round of y1 : 10\n",
      "x1 : 5.652046783625732\n",
      "y1 : 10.5\n",
      "round of x1 : 6\n",
      "round of y1 : 10\n",
      "x1 : 6.102339181286551\n",
      "y1 : 11.5\n",
      "round of x1 : 6\n",
      "round of y1 : 12\n",
      "x1 : 6.55263157894737\n",
      "y1 : 12.5\n",
      "round of x1 : 7\n",
      "round of y1 : 12\n",
      "x1 : 7.002923976608189\n",
      "y1 : 13.5\n",
      "round of x1 : 7\n",
      "round of y1 : 14\n",
      "x1 : 7.453216374269008\n",
      "y1 : 14.5\n",
      "round of x1 : 7\n",
      "round of y1 : 14\n",
      "x1 : 7.903508771929827\n",
      "y1 : 15.5\n",
      "round of x1 : 8\n",
      "round of y1 : 16\n",
      "x1 : 8.353801169590646\n",
      "y1 : 16.5\n",
      "round of x1 : 8\n",
      "round of y1 : 16\n",
      "x1 : 8.804093567251465\n",
      "y1 : 17.5\n",
      "round of x1 : 9\n",
      "round of y1 : 18\n",
      "x1 : 9.254385964912284\n",
      "y1 : 18.5\n",
      "round of x1 : 9\n",
      "round of y1 : 18\n",
      "x1 : 9.704678362573103\n",
      "y1 : 19.5\n",
      "round of x1 : 10\n",
      "round of y1 : 20\n",
      "x1 : 10.154970760233923\n",
      "y1 : 20.5\n",
      "round of x1 : 10\n",
      "round of y1 : 20\n"
     ]
    }
   ],
   "source": [
    "if abs(m)<=1:\n",
    "    dx = 1\n",
    "    dy = m\n",
    "    \n",
    "    while x1<=x2:\n",
    "        print(f\"x1 : {x1}\")\n",
    "        print(f\"y1 : {y1}\")\n",
    "        print(f\"round of x1 : {round(x1)}\")\n",
    "        print(f\"round of y1 : {round(y1)}\")\n",
    "        x_values.append(x1)\n",
    "        y_values.append(y1)\n",
    "        x_round.append(round(x1))\n",
    "        y_round.append(round(y1))\n",
    "        y1 = y1+dy\n",
    "        x1 += dx\n",
    "else:\n",
    "    dx = (1/m)\n",
    "    dy = 1\n",
    "    if y1>y2:\n",
    "        x1,x2 = x2,x1\n",
    "        y1,y2 = y2,y1\n",
    "    while y1<=y2:\n",
    "        print(f\"x1 : {x1}\")\n",
    "        print(f\"y1 : {y1}\")\n",
    "        print(f\"round of x1 : {round(x1)}\")\n",
    "        print(f\"round of y1 : {round(y1)}\")\n",
    "        x_values.append(x1)\n",
    "        y_values.append(y1)\n",
    "        x_round.append(round(x1))\n",
    "        y_round.append(round(y1))\n",
    "        x1 = x1+dx\n",
    "        y1 += dy"
   ]
  },
  {
   "cell_type": "code",
   "execution_count": 56,
   "id": "84435813",
   "metadata": {},
   "outputs": [
    {
     "name": "stdout",
     "output_type": "stream",
     "text": [
      "x1 : 10.605263157894742\n",
      "y1 : 21.5\n"
     ]
    }
   ],
   "source": [
    "print(f\"x1 : {x1}\")\n",
    "print(f\"y1 : {y1}\")"
   ]
  },
  {
   "cell_type": "code",
   "execution_count": 57,
   "id": "82b9c662",
   "metadata": {},
   "outputs": [
    {
     "data": {
      "text/plain": [
       "Text(0.5, 1.0, 'DDA Algorithm')"
      ]
     },
     "execution_count": 57,
     "metadata": {},
     "output_type": "execute_result"
    },
    {
     "data": {
      "image/png": "[encoded data removed]",
      "text/plain": [
       "<Figure size 640x480 with 1 Axes>"
      ]
     },
     "metadata": {},
     "output_type": "display_data"
    }
   ],
   "source": [
    "plt.plot(x_values,y_values,color='blue',marker='o')\n",
    "plt.plot(x_round,y_round,color='red',marker='o')\n",
    "plt.grid('true')\n",
    "plt.xlabel('x-axis')\n",
    "plt.ylabel('y-axis')\n",
    "plt.title('DDA Algorithm')"
   ]
  },
  {
   "cell_type": "code",
   "execution_count": null,
   "id": "4584168a",
   "metadata": {},
   "outputs": [],
   "source": []
  }
 ],
 "metadata": {
  "kernelspec": {
   "display_name": "Python 3 (ipykernel)",
   "language": "python",
   "name": "python3"
  },
  "language_info": {
   "codemirror_mode": {
    "name": "ipython",
    "version": 3
   },
   "file_extension": ".py",
   "mimetype": "text/x-python",
   "name": "python",
   "nbconvert_exporter": "python",
   "pygments_lexer": "ipython3",
   "version": "3.11.5"
  }
 },
 "nbformat": 4,
 "nbformat_minor": 5
}
