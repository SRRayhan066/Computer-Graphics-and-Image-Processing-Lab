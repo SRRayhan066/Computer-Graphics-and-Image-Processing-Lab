{
 "cells": [
  {
   "cell_type": "code",
   "execution_count": 82,
   "id": "bfc45e7d",
   "metadata": {},
   "outputs": [],
   "source": [
    "import matplotlib.pyplot as plt"
   ]
  },
  {
   "cell_type": "code",
   "execution_count": 83,
   "id": "50833d5b",
   "metadata": {},
   "outputs": [],
   "source": [
    "x1,y1 = 1,4\n",
    "x2,y2 = 8,1"
   ]
  },
  {
   "cell_type": "code",
   "execution_count": 84,
   "id": "3dba9e09",
   "metadata": {},
   "outputs": [],
   "source": [
    "m = (y1-y2)/(x1-x2)"
   ]
  },
  {
   "cell_type": "code",
   "execution_count": 85,
   "id": "aaf0bb6e",
   "metadata": {},
   "outputs": [
    {
     "name": "stdout",
     "output_type": "stream",
     "text": [
      "Slope is -0.42857142857142855\n"
     ]
    }
   ],
   "source": [
    "print(f\"Slope is {m}\")"
   ]
  },
  {
   "cell_type": "code",
   "execution_count": 86,
   "id": "0ecdb28c",
   "metadata": {},
   "outputs": [],
   "source": [
    "x_values = []\n",
    "y_values = []\n",
    "x_round = []\n",
    "y_round = []"
   ]
  },
  {
   "cell_type": "code",
   "execution_count": 87,
   "id": "8caa6a25",
   "metadata": {},
   "outputs": [
    {
     "name": "stdout",
     "output_type": "stream",
     "text": [
      "x1 : 1\n",
      "y1 : 4\n",
      "round of x1 : 1\n",
      "round of y1 : 4\n",
      "x1 : 2\n",
      "y1 : 3.5714285714285716\n",
      "round of x1 : 2\n",
      "round of y1 : 4\n",
      "x1 : 3\n",
      "y1 : 3.1428571428571432\n",
      "round of x1 : 3\n",
      "round of y1 : 3\n",
      "x1 : 4\n",
      "y1 : 2.714285714285715\n",
      "round of x1 : 4\n",
      "round of y1 : 3\n",
      "x1 : 5\n",
      "y1 : 2.2857142857142865\n",
      "round of x1 : 5\n",
      "round of y1 : 2\n",
      "x1 : 6\n",
      "y1 : 1.8571428571428579\n",
      "round of x1 : 6\n",
      "round of y1 : 2\n",
      "x1 : 7\n",
      "y1 : 1.4285714285714293\n",
      "round of x1 : 7\n",
      "round of y1 : 1\n",
      "x1 : 8\n",
      "y1 : 1.0000000000000007\n",
      "round of x1 : 8\n",
      "round of y1 : 1\n"
     ]
    }
   ],
   "source": [
    "if abs(m)<=1:\n",
    "    dx = 1\n",
    "    dy = m\n",
    "    if x1>x2:\n",
    "        x1,x2 = x2,x1\n",
    "        y2,y1 = y1,y2\n",
    "    while x1<=x2:\n",
    "        print(f\"x1 : {x1}\")\n",
    "        print(f\"y1 : {y1}\")\n",
    "        print(f\"round of x1 : {round(x1)}\")\n",
    "        print(f\"round of y1 : {round(y1)}\")\n",
    "        x_values.append(x1)\n",
    "        y_values.append(y1)\n",
    "        x_round.append(round(x1))\n",
    "        y_round.append(round(y1))\n",
    "        y1 = y1+dy\n",
    "        x1 += dx\n",
    "else:\n",
    "    dx = (1/m)\n",
    "    dy = 1\n",
    "    if y1>y2:\n",
    "        x1,x2 = x2,x1\n",
    "        y1,y2 = y2,y1\n",
    "    while y1<=y2:\n",
    "        print(f\"x1 : {x1}\")\n",
    "        print(f\"y1 : {y1}\")\n",
    "        print(f\"round of x1 : {round(x1)}\")\n",
    "        print(f\"round of y1 : {round(y1)}\")\n",
    "        x_values.append(x1)\n",
    "        y_values.append(y1)\n",
    "        x_round.append(round(x1))\n",
    "        y_round.append(round(y1))\n",
    "        x1 = x1+dx\n",
    "        y1 += dy"
   ]
  },
  {
   "cell_type": "code",
   "execution_count": 88,
   "id": "84435813",
   "metadata": {},
   "outputs": [
    {
     "name": "stdout",
     "output_type": "stream",
     "text": [
      "x1 : 9\n",
      "y1 : 0.5714285714285721\n"
     ]
    }
   ],
   "source": [
    "print(f\"x1 : {x1}\")\n",
    "print(f\"y1 : {y1}\")"
   ]
  },
  {
   "cell_type": "code",
   "execution_count": 89,
   "id": "82b9c662",
   "metadata": {},
   "outputs": [
    {
     "data": {
      "text/plain": [
       "Text(0.5, 1.0, 'DDA Algorithm')"
      ]
     },
     "execution_count": 89,
     "metadata": {},
     "output_type": "execute_result"
    },
    {
     "data": {
      "image/png": "[encoded data removed]",
      "text/plain": [
       "<Figure size 640x480 with 1 Axes>"
      ]
     },
     "metadata": {},
     "output_type": "display_data"
    }
   ],
   "source": [
    "plt.plot(x_values,y_values,color='blue',marker='o')\n",
    "plt.plot(x_round,y_round,color='red',marker='o')\n",
    "plt.grid('true')\n",
    "plt.xlabel('x-axis')\n",
    "plt.ylabel('y-axis')\n",
    "plt.title('DDA Algorithm')"
   ]
  },
  {
   "cell_type": "code",
   "execution_count": null,
   "id": "4584168a",
   "metadata": {},
   "outputs": [],
   "source": []
  }
 ],
 "metadata": {
  "kernelspec": {
   "display_name": "Python 3 (ipykernel)",
   "language": "python",
   "name": "python3"
  },
  "language_info": {
   "codemirror_mode": {
    "name": "ipython",
    "version": 3
   },
   "file_extension": ".py",
   "mimetype": "text/x-python",
   "name": "python",
   "nbconvert_exporter": "python",
   "pygments_lexer": "ipython3",
   "version": "3.11.5"
  }
 },
 "nbformat": 4,
 "nbformat_minor": 5
}
