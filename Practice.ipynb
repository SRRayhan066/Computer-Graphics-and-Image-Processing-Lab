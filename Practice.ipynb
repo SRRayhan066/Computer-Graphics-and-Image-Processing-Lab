{
 "cells": [
  {
   "cell_type": "code",
   "execution_count": 166,
   "id": "afaecab2",
   "metadata": {},
   "outputs": [],
   "source": [
    "import matplotlib.pyplot as plt"
   ]
  },
  {
   "cell_type": "code",
   "execution_count": 167,
   "id": "41075f8f",
   "metadata": {},
   "outputs": [],
   "source": [
    "def draw_line(x1, y1, x2, y2):\n",
    "    \n",
    "    sx = 1 if x1 < x2 else -1\n",
    "    sy = 1 if y1 < y2 else -1\n",
    "    \n",
    "    is_steep = abs(y2 - y1) > abs(x2 - x1)\n",
    "    \n",
    "    if is_steep:\n",
    "        x1, y1 = y1, x1\n",
    "        x2, y2 = y2, x2\n",
    "    \n",
    "    dx = abs(x2 - x1)\n",
    "    dy = abs(y2 - y1)\n",
    "    \n",
    "    p = 2 * dy - dx\n",
    "    \n",
    "    x_values = []\n",
    "    y_values = []\n",
    "    x = x1\n",
    "    y = y1\n",
    "    \n",
    "    while True:\n",
    "        if is_steep:\n",
    "            x_values.append(y)\n",
    "            y_values.append(x)\n",
    "        else:\n",
    "            x_values.append(x)\n",
    "            y_values.append(y)\n",
    "        \n",
    "        if x == x2 and y == y2:\n",
    "            break\n",
    "            \n",
    "        if p < 0:\n",
    "            p += 2 * dy\n",
    "        else:\n",
    "            y += sy\n",
    "            p += 2 * dy - 2 * dx\n",
    "        \n",
    "        x += sx\n",
    "        \n",
    "    return x_values, y_values"
   ]
  },
  {
   "cell_type": "code",
   "execution_count": 168,
   "id": "7cc11f1e",
   "metadata": {},
   "outputs": [],
   "source": [
    "def eight_way_symmetric_plot(cx, cy, x, y):\n",
    "    points = []\n",
    "    points.append((x + cx, y + cy))\n",
    "    points.append((x + cx, -y + cy))\n",
    "    points.append((-x + cx, -y + cy))\n",
    "    points.append((-x + cx, y + cy))\n",
    "    \n",
    "    points.append((y + cx, x + cy))\n",
    "    points.append((y + cx, -x + cy))\n",
    "    points.append((-y + cx, -x + cy))\n",
    "    points.append((-y + cx, x + cy))\n",
    "    \n",
    "    pointX, pointY = zip(*points)\n",
    "    \n",
    "    pointX = list(pointX)\n",
    "    pointY = list(pointY)\n",
    "    \n",
    "    return pointX, pointY\n",
    "\n",
    "\n",
    "def circle_drawing(cx, cy, r):\n",
    "    \n",
    "    x = 0\n",
    "    y = r \n",
    "    p = 3 - 2 * r\n",
    "    \n",
    "    x_values = []\n",
    "    y_values = []\n",
    "    \n",
    "    pointX, pointY = eight_way_symmetric_plot(cx, cy, x, y)\n",
    "    \n",
    "    x_values.append(pointX)\n",
    "    y_values.append(pointY)\n",
    "    \n",
    "    while x <= y:\n",
    "        \n",
    "        print(f\"p : {p}\")\n",
    "        \n",
    "        x += 1\n",
    "        \n",
    "        if p < 0:\n",
    "            p += 4 * x + 6\n",
    "        else:\n",
    "            y -= 1\n",
    "            p += 4 * (x - y) + 10\n",
    "            \n",
    "        pointX, pointY = eight_way_symmetric_plot(cx, cy, x, y)\n",
    "        \n",
    "        x_values.append(pointX)\n",
    "        y_values.append(pointY)\n",
    "        \n",
    "    \n",
    "    return x_values, y_values"
   ]
  },
  {
   "cell_type": "markdown",
   "id": "a01e624e",
   "metadata": {},
   "source": [
    "## Base Line"
   ]
  },
  {
   "cell_type": "code",
   "execution_count": 169,
   "id": "4d283279",
   "metadata": {},
   "outputs": [],
   "source": [
    "# baseline\n",
    "baseLineX1, baseLineY1 = draw_line(-35, -30, 35, -30)\n",
    "baseLineX2, baseLineY2 = draw_line(-40, -25, 40, -25)\n",
    "baseLineX3, baseLineY3 = draw_line(-45, -20, 45, -20)\n",
    "\n",
    "baseLeftX, baseLeftY = draw_line(-45, -20, -35, -30)\n",
    "baseRightX, baseRightY = draw_line(45, -20, 35, -30)"
   ]
  },
  {
   "cell_type": "code",
   "execution_count": 170,
   "id": "860c5aaa",
   "metadata": {},
   "outputs": [],
   "source": [
    "def draw_baseLine():\n",
    "    plt.plot(baseLineX1, baseLineY1, color = 'black')\n",
    "    plt.plot(baseLineX2, baseLineY2, color = 'black')\n",
    "    plt.plot(baseLineX3, baseLineY3, color = 'black')\n",
    "    plt.plot(baseLeftX, baseLeftY, color = 'black')\n",
    "    plt.plot(baseRightX, baseRightY, color = 'black')"
   ]
  },
  {
   "cell_type": "markdown",
   "id": "032b062c",
   "metadata": {},
   "source": [
    "## Left Side"
   ]
  },
  {
   "cell_type": "code",
   "execution_count": 171,
   "id": "386109f7",
   "metadata": {},
   "outputs": [],
   "source": [
    "# left\n",
    "leftLineX1, leftLineY1 = draw_line(-30, 15, -30, -20)\n",
    "leftLineX2, leftLineY2 = draw_line(-20, 15, -20, -20)\n",
    "leftTopX, leftTopY = draw_line(-30, 15, -20, 15)"
   ]
  },
  {
   "cell_type": "code",
   "execution_count": 172,
   "id": "aaf33ca6",
   "metadata": {},
   "outputs": [],
   "source": [
    "def draw_left():\n",
    "    plt.plot(leftLineX1, leftLineY1, color = 'black')\n",
    "    plt.plot(leftLineX2, leftLineY2, color = 'black')\n",
    "    plt.plot(leftTopX, leftTopY, color = 'black')"
   ]
  },
  {
   "cell_type": "markdown",
   "id": "f2a575b6",
   "metadata": {},
   "source": [
    "## Right Side"
   ]
  },
  {
   "cell_type": "code",
   "execution_count": 173,
   "id": "bb9a4b08",
   "metadata": {},
   "outputs": [],
   "source": [
    "# right\n",
    "rightLineX1, rightLineY1 = draw_line(20, 15, 20, -20)\n",
    "rightLineX2, rightLineY2 = draw_line(30, 15, 30, -20)\n",
    "rightTopX, rightTopY = draw_line(20, 15, 30, 15)"
   ]
  },
  {
   "cell_type": "code",
   "execution_count": 174,
   "id": "74eb197a",
   "metadata": {},
   "outputs": [],
   "source": [
    "def draw_right():\n",
    "    plt.plot(rightLineX1, rightLineY1, color = 'black')\n",
    "    plt.plot(rightLineX2, rightLineY2, color = 'black')\n",
    "    plt.plot(rightTopX, rightTopY, color = 'black')"
   ]
  },
  {
   "cell_type": "markdown",
   "id": "1099b7b0",
   "metadata": {},
   "source": [
    "## Circle"
   ]
  },
  {
   "cell_type": "code",
   "execution_count": 175,
   "id": "c6d07ce2",
   "metadata": {},
   "outputs": [
    {
     "name": "stdout",
     "output_type": "stream",
     "text": [
      "p : -7\n",
      "p : 3\n",
      "p : 5\n",
      "p : 15\n"
     ]
    }
   ],
   "source": [
    "circleX, circleY = circle_drawing(0, 0, 5)"
   ]
  },
  {
   "cell_type": "code",
   "execution_count": 176,
   "id": "1914b022",
   "metadata": {},
   "outputs": [],
   "source": [
    "def draw_circle():\n",
    "    plt.plot(circleX, circleY, color = 'red')"
   ]
  },
  {
   "cell_type": "markdown",
   "id": "4b6cc886",
   "metadata": {},
   "source": [
    "## Center"
   ]
  },
  {
   "cell_type": "code",
   "execution_count": 177,
   "id": "af8e16c0",
   "metadata": {},
   "outputs": [],
   "source": [
    "centerLineX1, centerLineY1 = draw_line(-10, 15, -10, -20)\n",
    "centerLineX2, centerLineY2 = draw_line(10, 15, 10, -20)\n",
    "centerLineX3, centerLineY3 = draw_line(0, -5, 0, -20)\n",
    "centerLineX4, centerLineY4 = draw_line(0, 15, 0, 5)\n",
    "\n",
    "angelX1, angelY1 = draw_line(0, 25, -10, 15)\n",
    "angelX2, angelY2 = draw_line(10, 25, 0, 15)\n",
    "angelX3, angelY3 = draw_line(20, 25, 10, 15)\n",
    "\n",
    "topX, topY = draw_line(0, 25, 20, 25)"
   ]
  },
  {
   "cell_type": "code",
   "execution_count": 178,
   "id": "a94ddde5",
   "metadata": {},
   "outputs": [],
   "source": [
    "def draw_center():\n",
    "    plt.plot(centerLineX1, centerLineY1, color = 'black')\n",
    "    plt.plot(centerLineX2, centerLineY2, color = 'black')\n",
    "    plt.plot(centerLineX3, centerLineY3, color = 'black')\n",
    "    plt.plot(centerLineX4, centerLineY4, color = 'black')\n",
    "    \n",
    "    plt.plot(angelX1, angelY1, color = 'black')\n",
    "    plt.plot(angelX2, angelY2, color = 'black')\n",
    "    plt.plot(angelX3, angelY3, color = 'black')\n",
    "    \n",
    "    plt.plot(topX, topY, color = 'black')\n",
    "    \n",
    "    draw_circle()"
   ]
  },
  {
   "cell_type": "code",
   "execution_count": null,
   "id": "4a14c164",
   "metadata": {},
   "outputs": [],
   "source": []
  },
  {
   "cell_type": "code",
   "execution_count": 179,
   "id": "513b07cf",
   "metadata": {},
   "outputs": [],
   "source": [
    "def plot_func():\n",
    "    draw_baseLine()\n",
    "    draw_left()\n",
    "    draw_right()\n",
    "    draw_center()\n",
    "    plt.title(\"Practice\")\n",
    "    plt.xlabel(\"x-axis\")\n",
    "    plt.ylabel(\"y-axis\")"
   ]
  },
  {
   "cell_type": "code",
   "execution_count": 180,
   "id": "26c37cc7",
   "metadata": {},
   "outputs": [
    {
     "data": {
      "image/png": "[encoded data removed]",
      "text/plain": [
       "<Figure size 640x480 with 1 Axes>"
      ]
     },
     "metadata": {},
     "output_type": "display_data"
    }
   ],
   "source": [
    "plot_func()"
   ]
  },
  {
   "cell_type": "code",
   "execution_count": null,
   "id": "d117ba15",
   "metadata": {},
   "outputs": [],
   "source": []
  }
 ],
 "metadata": {
  "kernelspec": {
   "display_name": "Python 3 (ipykernel)",
   "language": "python",
   "name": "python3"
  },
  "language_info": {
   "codemirror_mode": {
    "name": "ipython",
    "version": 3
   },
   "file_extension": ".py",
   "mimetype": "text/x-python",
   "name": "python",
   "nbconvert_exporter": "python",
   "pygments_lexer": "ipython3",
   "version": "3.11.5"
  }
 },
 "nbformat": 4,
 "nbformat_minor": 5
}
