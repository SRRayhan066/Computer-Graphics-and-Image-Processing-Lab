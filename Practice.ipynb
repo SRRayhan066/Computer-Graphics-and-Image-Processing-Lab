{
 "cells": [
  {
   "cell_type": "code",
   "execution_count": 1,
   "id": "afaecab2",
   "metadata": {},
   "outputs": [],
   "source": [
    "import matplotlib.pyplot as plt"
   ]
  },
  {
   "cell_type": "markdown",
   "id": "67066755",
   "metadata": {},
   "source": [
    "## Line drawing algorithm"
   ]
  },
  {
   "cell_type": "code",
   "execution_count": 2,
   "id": "41075f8f",
   "metadata": {},
   "outputs": [],
   "source": [
    "def draw_line(x1, y1, x2, y2):\n",
    "    \n",
    "    sx = 1 if x1 < x2 else -1\n",
    "    sy = 1 if y1 < y2 else -1\n",
    "    \n",
    "    is_steep = abs(y2 - y1) > abs(x2 - x1)\n",
    "    \n",
    "    if is_steep:\n",
    "        x1, y1 = y1, x1\n",
    "        x2, y2 = y2, x2\n",
    "    \n",
    "    dx = abs(x2 - x1)\n",
    "    dy = abs(y2 - y1)\n",
    "    \n",
    "    p = 2 * dy - dx\n",
    "    \n",
    "    x_values = []\n",
    "    y_values = []\n",
    "    x = x1\n",
    "    y = y1\n",
    "    \n",
    "    while True:\n",
    "        if is_steep:\n",
    "            x_values.append(y)\n",
    "            y_values.append(x)\n",
    "        else:\n",
    "            x_values.append(x)\n",
    "            y_values.append(y)\n",
    "        \n",
    "        if x == x2 and y == y2:\n",
    "            break\n",
    "            \n",
    "        if p < 0:\n",
    "            p += 2 * dy\n",
    "        else:\n",
    "            y += sy\n",
    "            p += 2 * dy - 2 * dx\n",
    "        \n",
    "        x += sx\n",
    "        \n",
    "    return x_values, y_values"
   ]
  },
  {
   "cell_type": "markdown",
   "id": "2004ea3e",
   "metadata": {},
   "source": [
    "## Circle drawing algorithm"
   ]
  },
  {
   "cell_type": "code",
   "execution_count": 3,
   "id": "7cc11f1e",
   "metadata": {},
   "outputs": [],
   "source": [
    "def eight_way_symmetric_plot(cx, cy, x, y):\n",
    "    points = []\n",
    "    points.append((x + cx, y + cy))\n",
    "    points.append((x + cx, -y + cy))\n",
    "    points.append((-x + cx, -y + cy))\n",
    "    points.append((-x + cx, y + cy))\n",
    "    \n",
    "    points.append((y + cx, x + cy))\n",
    "    points.append((y + cx, -x + cy))\n",
    "    points.append((-y + cx, -x + cy))\n",
    "    points.append((-y + cx, x + cy))\n",
    "    \n",
    "    pointX, pointY = zip(*points)\n",
    "    \n",
    "    pointX = list(pointX)\n",
    "    pointY = list(pointY)\n",
    "    \n",
    "    return pointX, pointY\n",
    "\n",
    "\n",
    "def circle_drawing(cx, cy, r):\n",
    "    \n",
    "    x = 0\n",
    "    y = r \n",
    "    d = 3 - 2 * r\n",
    "    \n",
    "    x_values = []\n",
    "    y_values = []\n",
    "    \n",
    "    pointX, pointY = eight_way_symmetric_plot(cx, cy, x, y)\n",
    "    \n",
    "    x_values.append(pointX)\n",
    "    y_values.append(pointY)\n",
    "    \n",
    "    while x <= y:\n",
    "        \n",
    "        print(f\"d : {d}\")\n",
    "        \n",
    "        if d < 0:\n",
    "            d += 4 * x + 6\n",
    "        else:\n",
    "            d += 4 * (x - y) + 10\n",
    "            y -= 1\n",
    "        \n",
    "        x += 1\n",
    "        pointX, pointY = eight_way_symmetric_plot(cx, cy, x, y)\n",
    "        \n",
    "        x_values.append(pointX)\n",
    "        y_values.append(pointY)\n",
    "        \n",
    "    \n",
    "    return x_values, y_values"
   ]
  },
  {
   "cell_type": "markdown",
   "id": "fcca1726",
   "metadata": {},
   "source": [
    "## Values to be added"
   ]
  },
  {
   "cell_type": "code",
   "execution_count": 4,
   "id": "a7ed0e2f",
   "metadata": {},
   "outputs": [],
   "source": [
    "values = []"
   ]
  },
  {
   "cell_type": "markdown",
   "id": "a01e624e",
   "metadata": {},
   "source": [
    "## Base Line"
   ]
  },
  {
   "cell_type": "code",
   "execution_count": 5,
   "id": "4d283279",
   "metadata": {},
   "outputs": [],
   "source": [
    "# baseline\n",
    "values.append(draw_line(-35, -30, 35, -30))\n",
    "values.append(draw_line(-40, -25, 40, -25))\n",
    "values.append(draw_line(-45, -20, 45, -20))\n",
    "values.append(draw_line(-45, -20, -35, -30))\n",
    "values.append(draw_line(45, -20, 35, -30))"
   ]
  },
  {
   "cell_type": "markdown",
   "id": "032b062c",
   "metadata": {},
   "source": [
    "## Left Side"
   ]
  },
  {
   "cell_type": "code",
   "execution_count": 6,
   "id": "386109f7",
   "metadata": {},
   "outputs": [],
   "source": [
    "values.append(draw_line(-30, 15, -30, -20))\n",
    "values.append(draw_line(-20, 15, -20, -20))\n",
    "values.append(draw_line(-30, 15, -20, 15))"
   ]
  },
  {
   "cell_type": "markdown",
   "id": "f2a575b6",
   "metadata": {},
   "source": [
    "## Right Side"
   ]
  },
  {
   "cell_type": "code",
   "execution_count": 7,
   "id": "bb9a4b08",
   "metadata": {},
   "outputs": [],
   "source": [
    "values.append(draw_line(20, 15, 20, -20))\n",
    "values.append(draw_line(30, 15, 30, -20))\n",
    "values.append(draw_line(20, 15, 30, 15))"
   ]
  },
  {
   "cell_type": "markdown",
   "id": "1099b7b0",
   "metadata": {},
   "source": [
    "## Circle"
   ]
  },
  {
   "cell_type": "code",
   "execution_count": 8,
   "id": "c6d07ce2",
   "metadata": {},
   "outputs": [
    {
     "name": "stdout",
     "output_type": "stream",
     "text": [
      "d : -21\n",
      "d : -15\n",
      "d : -5\n",
      "d : 9\n",
      "d : -17\n",
      "d : 5\n",
      "d : -9\n",
      "d : 21\n",
      "d : 19\n"
     ]
    }
   ],
   "source": [
    "circleX, circleY = circle_drawing(0, 0, 12)"
   ]
  },
  {
   "cell_type": "code",
   "execution_count": 9,
   "id": "1914b022",
   "metadata": {},
   "outputs": [],
   "source": [
    "def draw_circle():\n",
    "    plt.plot(circleX, circleY, color = 'red')"
   ]
  },
  {
   "cell_type": "markdown",
   "id": "4b6cc886",
   "metadata": {},
   "source": [
    "## Center"
   ]
  },
  {
   "cell_type": "code",
   "execution_count": 10,
   "id": "af8e16c0",
   "metadata": {},
   "outputs": [],
   "source": [
    "# left line\n",
    "values.append(draw_line(-10, 15, -10, 6))\n",
    "values.append(draw_line(-10, -6, -10, -20))\n",
    "\n",
    "# right line\n",
    "values.append(draw_line(10, 15, 10, 6))\n",
    "values.append(draw_line(10, -6, 10, -20))\n",
    "\n",
    "# middle line\n",
    "values.append(draw_line(0, -12, 0, -20))\n",
    "values.append(draw_line(0, 15, 0, 12))\n",
    "\n",
    "# Three angle bars\n",
    "values.append(draw_line(0, 25, -10, 15))\n",
    "values.append(draw_line(10, 25, 0, 15))\n",
    "values.append(draw_line(20, 25, 10, 15))\n",
    "\n",
    "# Top most line\n",
    "values.append(draw_line(0, 25, 20, 25))"
   ]
  },
  {
   "cell_type": "markdown",
   "id": "4c08f7bc",
   "metadata": {},
   "source": [
    "## Unpacking"
   ]
  },
  {
   "cell_type": "code",
   "execution_count": 11,
   "id": "4a14c164",
   "metadata": {},
   "outputs": [],
   "source": [
    "x_values, y_values = zip(*values)\n",
    "\n",
    "x_values = [item for sublist in x_values for item in (sublist + [None])]\n",
    "y_values = [item for sublist in y_values for item in (sublist + [None])]"
   ]
  },
  {
   "cell_type": "markdown",
   "id": "a8300bc6",
   "metadata": {},
   "source": [
    "## Drawing"
   ]
  },
  {
   "cell_type": "code",
   "execution_count": 12,
   "id": "513b07cf",
   "metadata": {},
   "outputs": [],
   "source": [
    "def plot_func():\n",
    "    plt.plot(x_values, y_values, color = 'black')\n",
    "    draw_circle()\n",
    "    plt.title(\"Practice\")\n",
    "    plt.xlabel(\"x-axis\")\n",
    "    plt.ylabel(\"y-axis\")"
   ]
  },
  {
   "cell_type": "code",
   "execution_count": 13,
   "id": "26c37cc7",
   "metadata": {},
   "outputs": [
    {
     "data": {
      "image/png": "[encoded data removed]",
      "text/plain": [
       "<Figure size 640x480 with 1 Axes>"
      ]
     },
     "metadata": {},
     "output_type": "display_data"
    }
   ],
   "source": [
    "plot_func()"
   ]
  },
  {
   "cell_type": "code",
   "execution_count": null,
   "id": "99ddebed",
   "metadata": {},
   "outputs": [],
   "source": []
  }
 ],
 "metadata": {
  "kernelspec": {
   "display_name": "Python 3 (ipykernel)",
   "language": "python",
   "name": "python3"
  },
  "language_info": {
   "codemirror_mode": {
    "name": "ipython",
    "version": 3
   },
   "file_extension": ".py",
   "mimetype": "text/x-python",
   "name": "python",
   "nbconvert_exporter": "python",
   "pygments_lexer": "ipython3",
   "version": "3.11.5"
  }
 },
 "nbformat": 4,
 "nbformat_minor": 5
}
