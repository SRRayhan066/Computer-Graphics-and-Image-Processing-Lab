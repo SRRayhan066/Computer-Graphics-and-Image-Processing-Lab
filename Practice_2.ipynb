{
 "cells": [
  {
   "cell_type": "code",
   "execution_count": 353,
   "id": "97196561",
   "metadata": {},
   "outputs": [],
   "source": [
    "import matplotlib.pyplot as plt\n",
    "import numpy as np"
   ]
  },
  {
   "cell_type": "markdown",
   "id": "05aab6d6",
   "metadata": {},
   "source": [
    "# Line drawing algorithm"
   ]
  },
  {
   "cell_type": "code",
   "execution_count": 354,
   "id": "063c417e",
   "metadata": {},
   "outputs": [],
   "source": [
    "def draw_line(x1, y1, x2, y2):\n",
    "    \n",
    "    is_steep = abs(y2 - y1) > abs(x2 - x1)\n",
    "    \n",
    "    if is_steep:\n",
    "        x1, y1 = y1, x1\n",
    "        x2, y2 = y2, x2\n",
    "        \n",
    "    sx = 1 if x1 < x2 else -1\n",
    "    sy = 1 if y1 < y2 else -1\n",
    "    \n",
    "    dx = abs(x2 - x1)\n",
    "    dy = abs(y2 - y1)\n",
    "    \n",
    "    p = 2 * dy - dx\n",
    "    \n",
    "    x_values = []\n",
    "    y_values = []\n",
    "    x = x1\n",
    "    y = y1\n",
    "    \n",
    "    while True:\n",
    "        if is_steep:\n",
    "            x_values.append(y)\n",
    "            y_values.append(x)\n",
    "        else:\n",
    "            x_values.append(x)\n",
    "            y_values.append(y)\n",
    "        \n",
    "        if x == x2 and y == y2:\n",
    "            break\n",
    "            \n",
    "        if p < 0:\n",
    "            p += 2 * dy\n",
    "        else:\n",
    "            y += sy\n",
    "            p += 2 * dy - 2 * dx\n",
    "        \n",
    "        x += sx\n",
    "        \n",
    "    return x_values, y_values"
   ]
  },
  {
   "cell_type": "markdown",
   "id": "dcb6769e",
   "metadata": {},
   "source": [
    "# Circle drawing algorithm"
   ]
  },
  {
   "cell_type": "code",
   "execution_count": 355,
   "id": "5cd200c9",
   "metadata": {},
   "outputs": [],
   "source": [
    "def eight_way_symmetric_plot(cx, cy, x, y):\n",
    "    points = []\n",
    "    points.append((x + cx, y + cy))\n",
    "    points.append((x + cx, -y + cy))\n",
    "    points.append((-x + cx, -y + cy))\n",
    "    points.append((-x + cx, y + cy))\n",
    "    \n",
    "    points.append((y + cx, x + cy))\n",
    "    points.append((y + cx, -x + cy))\n",
    "    points.append((-y + cx, -x + cy))\n",
    "    points.append((-y + cx, x + cy))\n",
    "    \n",
    "    pointX, pointY = zip(*points)\n",
    "    \n",
    "    pointX = list(pointX)\n",
    "    pointY = list(pointY)\n",
    "    \n",
    "    return pointX, pointY\n",
    "\n",
    "\n",
    "def circle_drawing(cx, cy, r):\n",
    "    \n",
    "    x = 0\n",
    "    y = r \n",
    "    d = 3 - 2 * r\n",
    "    \n",
    "    x_values = []\n",
    "    y_values = []\n",
    "    \n",
    "    pointX, pointY = eight_way_symmetric_plot(cx, cy, x, y)\n",
    "    \n",
    "    x_values.append(pointX)\n",
    "    y_values.append(pointY)\n",
    "    \n",
    "    while x <= y:\n",
    "        \n",
    "        print(f\"d : {d}\")\n",
    "        \n",
    "        if d < 0:\n",
    "            d += 4 * x + 6\n",
    "        else:\n",
    "            d += 4 * (x - y) + 10\n",
    "            y -= 1\n",
    "        \n",
    "        x += 1\n",
    "        pointX, pointY = eight_way_symmetric_plot(cx, cy, x, y)\n",
    "        \n",
    "        x_values.append(pointX)\n",
    "        y_values.append(pointY)\n",
    "        \n",
    "    \n",
    "    return x_values, y_values"
   ]
  },
  {
   "cell_type": "markdown",
   "id": "803612be",
   "metadata": {},
   "source": [
    "# Values to be added"
   ]
  },
  {
   "cell_type": "code",
   "execution_count": 356,
   "id": "80a2b524",
   "metadata": {},
   "outputs": [],
   "source": [
    "values = []"
   ]
  },
  {
   "cell_type": "markdown",
   "id": "2f9ba730",
   "metadata": {},
   "source": [
    "# Baseline"
   ]
  },
  {
   "cell_type": "code",
   "execution_count": 357,
   "id": "24c7b3dc",
   "metadata": {},
   "outputs": [],
   "source": [
    "# baseline\n",
    "values.append(draw_line(-30, -22, 30, -22)) # Top baseline\n",
    "values.append(draw_line(-20, -30, 20, -30)) # ground baseline\n",
    "\n",
    "values.append(draw_line(-24, -24, 24, -24))\n",
    "\n",
    "values.append(draw_line(-30, -22, -24, -24))\n",
    "values.append(draw_line(-24, -24, -20, -30))\n",
    "\n",
    "values.append(draw_line(30, -22, 24, -24))\n",
    "values.append(draw_line(24, -24, 20, -30))"
   ]
  },
  {
   "cell_type": "markdown",
   "id": "71b11b3e",
   "metadata": {},
   "source": [
    "# Left side"
   ]
  },
  {
   "cell_type": "code",
   "execution_count": 358,
   "id": "9d94a1e2",
   "metadata": {},
   "outputs": [],
   "source": [
    "values.append(draw_line(-26, 0, -26, -22))\n",
    "values.append(draw_line(-20, 0, -20, -22))\n",
    "values.append(draw_line(-26, 0, -20, 0))"
   ]
  },
  {
   "cell_type": "markdown",
   "id": "48950daf",
   "metadata": {},
   "source": [
    "# Right side"
   ]
  },
  {
   "cell_type": "code",
   "execution_count": 359,
   "id": "d17ba3a6",
   "metadata": {},
   "outputs": [],
   "source": [
    "values.append(draw_line(20, 0, 20, -22))\n",
    "values.append(draw_line(26, 0, 26, -22))\n",
    "values.append(draw_line(20, 0, 26, 0))"
   ]
  },
  {
   "cell_type": "markdown",
   "id": "1fe5345a",
   "metadata": {},
   "source": [
    "# Circle"
   ]
  },
  {
   "cell_type": "code",
   "execution_count": 360,
   "id": "7bcfb41b",
   "metadata": {},
   "outputs": [
    {
     "name": "stdout",
     "output_type": "stream",
     "text": [
      "d : -17\n",
      "d : -11\n",
      "d : -1\n",
      "d : 13\n",
      "d : -5\n",
      "d : 17\n",
      "d : 11\n",
      "d : 13\n"
     ]
    }
   ],
   "source": [
    "circleX, circleY = circle_drawing(0, 0, 10)"
   ]
  },
  {
   "cell_type": "markdown",
   "id": "3cd6b1e1",
   "metadata": {},
   "source": [
    "# Middle"
   ]
  },
  {
   "cell_type": "code",
   "execution_count": 361,
   "id": "943a8ad7",
   "metadata": {},
   "outputs": [],
   "source": [
    "values.append(draw_line(-10, 14, -10, -22))\n",
    "values.append(draw_line(0, -10, 0, -22))\n",
    "values.append(draw_line(10, 14, 10, -22))\n",
    "values.append(draw_line(0, 14, 0, 10))\n",
    "\n",
    "values.append(draw_line(-10, 14, -4, 22))\n",
    "values.append(draw_line(6, 22, 0, 14))\n",
    "values.append(draw_line(20, 22, 10, 14))\n",
    "\n",
    "values.append(draw_line(-4, 22, 20, 22))"
   ]
  },
  {
   "cell_type": "markdown",
   "id": "4b486d61",
   "metadata": {},
   "source": [
    "# Unpacking"
   ]
  },
  {
   "cell_type": "code",
   "execution_count": 362,
   "id": "024585ce",
   "metadata": {},
   "outputs": [],
   "source": [
    "x_values, y_values = zip(*values)\n",
    "x_values = [item for sublist in x_values for item in (sublist + [None])]\n",
    "y_values = [item for sublist in y_values for item in (sublist + [None])]"
   ]
  },
  {
   "cell_type": "markdown",
   "id": "06b1cb4f",
   "metadata": {},
   "source": [
    "# Drawing"
   ]
  },
  {
   "cell_type": "code",
   "execution_count": 363,
   "id": "af2783b9",
   "metadata": {},
   "outputs": [],
   "source": [
    "def plot_func():\n",
    "    plt.plot(x_values, y_values, color = 'black')\n",
    "    plt.plot(circleX, circleY, color = 'red')\n",
    "    plt.title(\"Practice\")\n",
    "    plt.xlabel(\"x-axis\")\n",
    "    plt.ylabel(\"y-axis\")\n",
    "    plt.grid(True)"
   ]
  },
  {
   "cell_type": "code",
   "execution_count": 364,
   "id": "db48ac01",
   "metadata": {},
   "outputs": [
    {
     "data": {
      "image/png": "[encoded data removed]",
      "text/plain": [
       "<Figure size 640x480 with 1 Axes>"
      ]
     },
     "metadata": {},
     "output_type": "display_data"
    }
   ],
   "source": [
    "plot_func()"
   ]
  }
 ],
 "metadata": {
  "kernelspec": {
   "display_name": "Python 3 (ipykernel)",
   "language": "python",
   "name": "python3"
  },
  "language_info": {
   "codemirror_mode": {
    "name": "ipython",
    "version": 3
   },
   "file_extension": ".py",
   "mimetype": "text/x-python",
   "name": "python",
   "nbconvert_exporter": "python",
   "pygments_lexer": "ipython3",
   "version": "3.11.5"
  }
 },
 "nbformat": 4,
 "nbformat_minor": 5
}
